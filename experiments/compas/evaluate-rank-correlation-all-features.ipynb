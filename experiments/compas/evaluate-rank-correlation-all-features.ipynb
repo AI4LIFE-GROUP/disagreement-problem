{
 "cells": [
  {
   "cell_type": "code",
   "execution_count": 1,
   "id": "2e467c3c",
   "metadata": {},
   "outputs": [],
   "source": [
    "import numpy as np\n",
    "import pickle\n",
    "\n",
    "from scipy.stats import spearmanr\n",
    "import itertools\n",
    "\n",
    "import seaborn as sns\n",
    "import matplotlib.pyplot as plt"
   ]
  },
  {
   "cell_type": "markdown",
   "id": "1bbdb286",
   "metadata": {},
   "source": [
    "# load explanations"
   ]
  },
  {
   "cell_type": "code",
   "execution_count": 2,
   "id": "902ae73e",
   "metadata": {},
   "outputs": [],
   "source": [
    "#load explanations\n",
    "\n",
    "#lime\n",
    "method='lime'\n",
    "model_names = ['logistic', 'gb', 'rf', 'nn', 'nn_logistic']\n",
    "n=3000\n",
    "\n",
    "filenames = {m: f'explanations/expl_{method}_{m}_n{n}.pkl' for m in model_names}\n",
    "attr_lime = {m: pickle.load(open(filenames[m], 'rb')) for m in model_names}\n",
    "\n",
    "\n",
    "#kernelshap\n",
    "method='kernelshap'\n",
    "model_names = ['logistic', 'gb', 'rf', 'nn', 'nn_logistic']\n",
    "\n",
    "filenames = {m: f'explanations/expl_{method}_{m}.pkl' for m in model_names}\n",
    "attr_kernelshap = {m: pickle.load(open(filenames[m], 'rb')) for m in model_names}\n",
    "\n",
    "\n",
    "#vanillagrad\n",
    "method='vanillagrad'\n",
    "model_names = ['nn', 'nn_logistic']\n",
    "\n",
    "filenames = {m: f'explanations/expl_{method}_{m}.pkl' for m in model_names}\n",
    "attr_vanillagrad = {m: pickle.load(open(filenames[m], 'rb')) for m in model_names}\n",
    "\n",
    "\n",
    "#gradient*input\n",
    "method='gradtinput'\n",
    "model_names = ['nn', 'nn_logistic']\n",
    "\n",
    "filenames = {m: f'explanations/expl_{method}_{m}.pkl' for m in model_names}\n",
    "attr_gradtinput = {m: pickle.load(open(filenames[m], 'rb')) for m in model_names}\n",
    "\n",
    "\n",
    "\n",
    "#integrated gradients\n",
    "method='integratedgrad'\n",
    "model_names = ['nn', 'nn_logistic']\n",
    "n=1500\n",
    "\n",
    "filenames = {m: f'explanations/expl_{method}_{m}_n{n}.pkl' for m in model_names}\n",
    "attr_integratedgrad = {m: pickle.load(open(filenames[m], 'rb')) for m in model_names}\n",
    "\n",
    "\n",
    "#smoothgrad\n",
    "method='smoothgrad'\n",
    "model_names = ['nn', 'nn_logistic']\n",
    "n=1500\n",
    "\n",
    "filenames = {m: f'explanations/expl_{method}_{m}_n{n}.pkl' for m in model_names}\n",
    "attr_smoothgrad = {m: pickle.load(open(filenames[m], 'rb')) for m in model_names}\n"
   ]
  },
  {
   "cell_type": "markdown",
   "id": "98ba21a3",
   "metadata": {},
   "source": [
    "# calculate rank correlations + plot"
   ]
  },
  {
   "cell_type": "code",
   "execution_count": 3,
   "id": "7b141951",
   "metadata": {},
   "outputs": [],
   "source": [
    "def calc_rank_corr_two_methods(attr1, attr2):\n",
    "    '''\n",
    "    attr1: np.array, n x p\n",
    "    attr2: np.array, n x p\n",
    "    '''\n",
    "    #calculate feature ranks\n",
    "    ranks1 = np.argsort(-np.abs(attr1), axis=1)\n",
    "    ranks2 = np.argsort(-np.abs(attr2), axis=1)\n",
    "\n",
    "    #calculate rank correlation for each data point\n",
    "    #https://stackoverflow.com/questions/44947030/how-to-get-scipy-stats-spearmanra-b-compute-correlation-only-between-variable\n",
    "    corrs = []\n",
    "    for row in range(ranks1.shape[0]):\n",
    "        rho, _ = spearmanr(ranks1[row, :], ranks2[row, :])\n",
    "        corrs.append(rho)\n",
    "        \n",
    "    return np.array(corrs) #rank correlations for each datapoint\n",
    "\n",
    "\n"
   ]
  },
  {
   "cell_type": "code",
   "execution_count": 4,
   "id": "3808e178",
   "metadata": {},
   "outputs": [],
   "source": [
    "def calc_rank_corr_all_methods(expl_methods_names, expl_methods_attrs):\n",
    "    \n",
    "    #initiate correlation matrix\n",
    "    num_expl_methods = len(expl_methods_attrs)\n",
    "    corr_matrix = np.zeros([num_expl_methods, num_expl_methods])\n",
    "    \n",
    "    #fill correlation matrix with average rank correlation\n",
    "    for a, b in itertools.combinations_with_replacement(range(num_expl_methods), 2):\n",
    "        print(f'calculating {expl_methods_names[a]} ({a}) and {expl_methods_names[b]} ({b})')\n",
    "        corrs = calc_rank_corr_two_methods(expl_methods_attrs[a], expl_methods_attrs[b]) #rank correlations for each datapoint\n",
    "        corr_matrix[a, b] = np.mean(corrs) #average rank correlation\n",
    "        corr_matrix[b, a] = corr_matrix[a, b]\n",
    "        \n",
    "    return corr_matrix\n",
    "    \n",
    "    "
   ]
  },
  {
   "cell_type": "code",
   "execution_count": 5,
   "id": "d4c5f24a",
   "metadata": {},
   "outputs": [],
   "source": [
    "def plot_corr_matrix(corr_matrix, plot_path, \n",
    "                     labels=['LIME', 'KernelSHAP', 'Grad', 'Grad*Input', 'IntGrad', 'SmoothGRAD']):\n",
    "    mask = np.invert(np.tril(np.ones_like(corr_matrix, dtype=bool))) #mask for upper triangle\n",
    "    cmap = sns.color_palette('vlag', as_cmap=True) #diverging colormap\n",
    "    \n",
    "    #heatmap\n",
    "    plt.figure(figsize=(15, 7))\n",
    "    sns.heatmap(corr_matrix, mask=mask, cmap=cmap, \n",
    "                vmin=-1, vmax=1, center=0,\n",
    "                xticklabels=labels, yticklabels=labels,\n",
    "                square=True, linewidths=.5, cbar_kws={'shrink': 0.995})\n",
    "    plt.yticks(rotation=0)\n",
    "    plt.savefig(plot_path, facecolor='white', transparent=False)"
   ]
  },
  {
   "cell_type": "code",
   "execution_count": 6,
   "id": "62bbc54e",
   "metadata": {},
   "outputs": [],
   "source": [
    "#combine both functions\n",
    "def rank_correlation_analysis(expl_methods_names, expl_methods_attrs, plot_path, \n",
    "                              labels=['LIME', 'KernelSHAP', 'Grad', 'Grad*Input', 'IntGrad', 'SmoothGRAD']):\n",
    "    corr_matrix = calc_rank_corr_all_methods(expl_methods_names, expl_methods_attrs)\n",
    "    plot_corr_matrix(corr_matrix, plot_path, labels)\n",
    "    \n",
    "    return corr_matrix"
   ]
  },
  {
   "cell_type": "markdown",
   "id": "c036cd8b",
   "metadata": {},
   "source": [
    "### NN"
   ]
  },
  {
   "cell_type": "code",
   "execution_count": 7,
   "id": "1c4747e6",
   "metadata": {},
   "outputs": [
    {
     "name": "stdout",
     "output_type": "stream",
     "text": [
      "calculating LIME (0) and LIME (0)\n",
      "calculating LIME (0) and KernelSHAP (1)\n",
      "calculating LIME (0) and Grad (2)\n",
      "calculating LIME (0) and Grad*Input (3)\n",
      "calculating LIME (0) and IntGrad (4)\n",
      "calculating LIME (0) and SmoothGRAD (5)\n",
      "calculating KernelSHAP (1) and KernelSHAP (1)\n",
      "calculating KernelSHAP (1) and Grad (2)\n",
      "calculating KernelSHAP (1) and Grad*Input (3)\n",
      "calculating KernelSHAP (1) and IntGrad (4)\n",
      "calculating KernelSHAP (1) and SmoothGRAD (5)\n",
      "calculating Grad (2) and Grad (2)\n",
      "calculating Grad (2) and Grad*Input (3)\n",
      "calculating Grad (2) and IntGrad (4)\n",
      "calculating Grad (2) and SmoothGRAD (5)\n",
      "calculating Grad*Input (3) and Grad*Input (3)\n",
      "calculating Grad*Input (3) and IntGrad (4)\n",
      "calculating Grad*Input (3) and SmoothGRAD (5)\n",
      "calculating IntGrad (4) and IntGrad (4)\n",
      "calculating IntGrad (4) and SmoothGRAD (5)\n",
      "calculating SmoothGRAD (5) and SmoothGRAD (5)\n"
     ]
    },
    {
     "data": {
      "image/png": "[encoded data removed]",
      "text/plain": [
       "<Figure size 1080x504 with 2 Axes>"
      ]
     },
     "metadata": {
      "needs_background": "light"
     },
     "output_type": "display_data"
    }
   ],
   "source": [
    "#arguments\n",
    "expl_methods_names = {0: 'LIME',\n",
    "                1: 'KernelSHAP', \n",
    "                2: 'Grad',\n",
    "                3: 'Grad*Input',\n",
    "                4: 'IntGrad',\n",
    "                5: 'SmoothGRAD'}\n",
    "m='nn'\n",
    "expl_methods_attrs = {0: attr_lime[m],\n",
    "                      1: attr_kernelshap[m], \n",
    "                      2: attr_vanillagrad[m],\n",
    "                      3: attr_gradtinput[m],\n",
    "                      4: attr_integratedgrad[m],\n",
    "                      5: attr_smoothgrad[m]}\n",
    "plot_path=f'figures/rank_correlation_{m}.png'\n",
    "\n",
    "#calculate + plot rank correlation\n",
    "corr_matrix_nn = rank_correlation_analysis(expl_methods_names, expl_methods_attrs, plot_path)\n"
   ]
  },
  {
   "cell_type": "code",
   "execution_count": 8,
   "id": "9f5b1f92",
   "metadata": {},
   "outputs": [
    {
     "data": {
      "text/plain": [
       "array([[ 1.        ,  0.49616831, -0.11321573,  0.50660305,  0.50612107,\n",
       "        -0.10094949],\n",
       "       [ 0.49616831,  1.        , -0.05643917,  0.37550607,  0.37950646,\n",
       "        -0.076417  ],\n",
       "       [-0.11321573, -0.05643917,  1.        ,  0.15370156,  0.1566898 ,\n",
       "         0.77552053],\n",
       "       [ 0.50660305,  0.37550607,  0.15370156,  1.        ,  0.96609312,\n",
       "         0.21737035],\n",
       "       [ 0.50612107,  0.37950646,  0.1566898 ,  0.96609312,  1.        ,\n",
       "         0.21859938],\n",
       "       [-0.10094949, -0.076417  ,  0.77552053,  0.21737035,  0.21859938,\n",
       "         1.        ]])"
      ]
     },
     "execution_count": 8,
     "metadata": {},
     "output_type": "execute_result"
    }
   ],
   "source": [
    "corr_matrix_nn"
   ]
  },
  {
   "cell_type": "markdown",
   "id": "8ec7a415",
   "metadata": {},
   "source": [
    "### logistic"
   ]
  },
  {
   "cell_type": "code",
   "execution_count": 9,
   "id": "1b8eccaa",
   "metadata": {},
   "outputs": [
    {
     "name": "stdout",
     "output_type": "stream",
     "text": [
      "calculating LIME (0) and LIME (0)\n",
      "calculating LIME (0) and KernelSHAP (1)\n",
      "calculating LIME (0) and Grad (2)\n",
      "calculating LIME (0) and Grad*Input (3)\n",
      "calculating LIME (0) and IntGrad (4)\n",
      "calculating LIME (0) and SmoothGRAD (5)\n",
      "calculating KernelSHAP (1) and KernelSHAP (1)\n",
      "calculating KernelSHAP (1) and Grad (2)\n",
      "calculating KernelSHAP (1) and Grad*Input (3)\n",
      "calculating KernelSHAP (1) and IntGrad (4)\n",
      "calculating KernelSHAP (1) and SmoothGRAD (5)\n",
      "calculating Grad (2) and Grad (2)\n",
      "calculating Grad (2) and Grad*Input (3)\n",
      "calculating Grad (2) and IntGrad (4)\n",
      "calculating Grad (2) and SmoothGRAD (5)\n",
      "calculating Grad*Input (3) and Grad*Input (3)\n",
      "calculating Grad*Input (3) and IntGrad (4)\n",
      "calculating Grad*Input (3) and SmoothGRAD (5)\n",
      "calculating IntGrad (4) and IntGrad (4)\n",
      "calculating IntGrad (4) and SmoothGRAD (5)\n",
      "calculating SmoothGRAD (5) and SmoothGRAD (5)\n"
     ]
    },
    {
     "data": {
      "image/png": "[encoded data removed]",
      "text/plain": [
       "<Figure size 1080x504 with 2 Axes>"
      ]
     },
     "metadata": {
      "needs_background": "light"
     },
     "output_type": "display_data"
    }
   ],
   "source": [
    "#arguments\n",
    "expl_methods_names = {0: 'LIME',\n",
    "                1: 'KernelSHAP', \n",
    "                2: 'Grad',\n",
    "                3: 'Grad*Input',\n",
    "                4: 'IntGrad',\n",
    "                5: 'SmoothGRAD'}\n",
    "m='nn_logistic'\n",
    "expl_methods_attrs = {0: attr_lime[m],\n",
    "                      1: attr_kernelshap[m], \n",
    "                      2: attr_vanillagrad[m],\n",
    "                      3: attr_gradtinput[m],\n",
    "                      4: attr_integratedgrad[m],\n",
    "                      5: attr_smoothgrad[m]}\n",
    "plot_path=f'figures/rank_correlation_{m}.png'\n",
    "\n",
    "#calculate + plot rank correlation\n",
    "corr_matrix_nn_logistic = rank_correlation_analysis(expl_methods_names, expl_methods_attrs, plot_path)\n",
    "\n"
   ]
  },
  {
   "cell_type": "code",
   "execution_count": 10,
   "id": "f6ddc276",
   "metadata": {
    "scrolled": true
   },
   "outputs": [
    {
     "data": {
      "text/plain": [
       "array([[ 1.        ,  0.57569404, -0.16469057,  0.48942067,  0.48942067,\n",
       "        -0.16469057],\n",
       "       [ 0.57569404,  1.        , -0.11270966,  0.34598516,  0.34598516,\n",
       "        -0.11270966],\n",
       "       [-0.16469057, -0.11270966,  1.        ,  0.24587912,  0.24587912,\n",
       "         1.        ],\n",
       "       [ 0.48942067,  0.34598516,  0.24587912,  1.        ,  1.        ,\n",
       "         0.24587912],\n",
       "       [ 0.48942067,  0.34598516,  0.24587912,  1.        ,  1.        ,\n",
       "         0.24587912],\n",
       "       [-0.16469057, -0.11270966,  1.        ,  0.24587912,  0.24587912,\n",
       "         1.        ]])"
      ]
     },
     "execution_count": 10,
     "metadata": {},
     "output_type": "execute_result"
    }
   ],
   "source": [
    "corr_matrix_nn_logistic"
   ]
  },
  {
   "cell_type": "markdown",
   "id": "32947add",
   "metadata": {},
   "source": [
    "### RF"
   ]
  },
  {
   "cell_type": "code",
   "execution_count": 11,
   "id": "0776c882",
   "metadata": {},
   "outputs": [
    {
     "name": "stdout",
     "output_type": "stream",
     "text": [
      "calculating LIME (0) and LIME (0)\n",
      "calculating LIME (0) and KernelSHAP (1)\n",
      "calculating KernelSHAP (1) and KernelSHAP (1)\n"
     ]
    },
    {
     "data": {
      "image/png": "[encoded data removed]",
      "text/plain": [
       "<Figure size 1080x504 with 2 Axes>"
      ]
     },
     "metadata": {
      "needs_background": "light"
     },
     "output_type": "display_data"
    }
   ],
   "source": [
    "#arguments\n",
    "expl_methods_names = {0: 'LIME',\n",
    "                1: 'KernelSHAP'}\n",
    "m='rf'\n",
    "expl_methods_attrs = {0: attr_lime[m],\n",
    "                      1: attr_kernelshap[m]}\n",
    "plot_path=f'figures/rank_correlation_{m}.png'\n",
    "labels=['LIME', 'KernelSHAP']\n",
    "\n",
    "#calculate + plot rank correlation\n",
    "corr_matrix_rf = rank_correlation_analysis(expl_methods_names, expl_methods_attrs, plot_path, labels)\n",
    "\n"
   ]
  },
  {
   "cell_type": "code",
   "execution_count": 12,
   "id": "8bb5b4af",
   "metadata": {},
   "outputs": [
    {
     "data": {
      "text/plain": [
       "array([[1.        , 0.25139773],\n",
       "       [0.25139773, 1.        ]])"
      ]
     },
     "execution_count": 12,
     "metadata": {},
     "output_type": "execute_result"
    }
   ],
   "source": [
    "corr_matrix_rf"
   ]
  },
  {
   "cell_type": "markdown",
   "id": "e623951b",
   "metadata": {},
   "source": [
    "### GB"
   ]
  },
  {
   "cell_type": "code",
   "execution_count": 13,
   "id": "ce1070d9",
   "metadata": {},
   "outputs": [
    {
     "name": "stdout",
     "output_type": "stream",
     "text": [
      "calculating LIME (0) and LIME (0)\n",
      "calculating LIME (0) and KernelSHAP (1)\n",
      "calculating KernelSHAP (1) and KernelSHAP (1)\n"
     ]
    },
    {
     "data": {
      "image/png": "[encoded data removed]",
      "text/plain": [
       "<Figure size 1080x504 with 2 Axes>"
      ]
     },
     "metadata": {
      "needs_background": "light"
     },
     "output_type": "display_data"
    }
   ],
   "source": [
    "#arguments\n",
    "expl_methods_names = {0: 'LIME',\n",
    "                1: 'KernelSHAP'}\n",
    "m='gb'\n",
    "expl_methods_attrs = {0: attr_lime[m],\n",
    "                      1: attr_kernelshap[m]}\n",
    "plot_path=f'figures/rank_correlation_{m}.png'\n",
    "labels=['LIME', 'KernelSHAP']\n",
    "\n",
    "#calculate + plot rank correlation\n",
    "corr_matrix_gb = rank_correlation_analysis(expl_methods_names, expl_methods_attrs, plot_path, labels)\n"
   ]
  },
  {
   "cell_type": "code",
   "execution_count": 14,
   "id": "db91fc41",
   "metadata": {},
   "outputs": [
    {
     "data": {
      "text/plain": [
       "array([[1.        , 0.25547041],\n",
       "       [0.25547041, 1.        ]])"
      ]
     },
     "execution_count": 14,
     "metadata": {},
     "output_type": "execute_result"
    }
   ],
   "source": [
    "corr_matrix_gb"
   ]
  },
  {
   "cell_type": "code",
   "execution_count": null,
   "id": "d983c45f",
   "metadata": {},
   "outputs": [],
   "source": []
  },
  {
   "cell_type": "code",
   "execution_count": null,
   "id": "bb35120e",
   "metadata": {},
   "outputs": [],
   "source": []
  },
  {
   "cell_type": "code",
   "execution_count": null,
   "id": "8828859d",
   "metadata": {},
   "outputs": [],
   "source": []
  }
 ],
 "metadata": {
  "kernelspec": {
   "display_name": "Python 3",
   "language": "python",
   "name": "python3"
  },
  "language_info": {
   "codemirror_mode": {
    "name": "ipython",
    "version": 3
   },
   "file_extension": ".py",
   "mimetype": "text/x-python",
   "name": "python",
   "nbconvert_exporter": "python",
   "pygments_lexer": "ipython3",
   "version": "3.8.8"
  }
 },
 "nbformat": 4,
 "nbformat_minor": 5
}
