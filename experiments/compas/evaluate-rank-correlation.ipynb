{
 "cells": [
  {
   "cell_type": "code",
   "execution_count": 1,
   "id": "2e467c3c",
   "metadata": {},
   "outputs": [],
   "source": [
    "import numpy as np\n",
    "import pickle\n",
    "\n",
    "from scipy.stats import spearmanr\n",
    "import itertools\n",
    "\n",
    "import seaborn as sns\n",
    "import matplotlib.pyplot as plt"
   ]
  },
  {
   "cell_type": "markdown",
   "id": "9ba6464c",
   "metadata": {},
   "source": [
    "# load explanations"
   ]
  },
  {
   "cell_type": "code",
   "execution_count": 2,
   "id": "39f9871a",
   "metadata": {},
   "outputs": [],
   "source": [
    "#load explanations\n",
    "\n",
    "#lime\n",
    "#TODO\n",
    "\n",
    "#kernelshap\n",
    "model_names = ['logistic', 'gb', 'rf', 'nn', 'nn_logistic']\n",
    "filenames = {'logistic': 'explanations/expl_kernelshap_logistic.pkl', \n",
    "                'gb': 'explanations/expl_kernelshap_gb.pkl', \n",
    "                'rf': 'explanations/expl_kernelshap_rf.pkl', \n",
    "                'nn': 'explanations/expl_kernelshap_nn.pkl',\n",
    "                'nn_logistic': 'explanations/expl_kernelshap_nn_logistic.pkl'}\n",
    "attr_kernelshap = {m: pickle.load(open(filenames[m], 'rb')) for m in model_names}\n",
    "\n",
    "#vanillagrad\n",
    "model_names = ['nn', 'nn_logistic']\n",
    "filenames = {'nn': 'explanations/expl_vanillagrad_nn.pkl',\n",
    "                'nn_logistic': 'explanations/expl_vanillagrad_nn_logistic.pkl'}\n",
    "attr_vanillagrad = {m: pickle.load(open(filenames[m], 'rb')) for m in model_names}\n",
    "\n",
    "#gradient*input\n",
    "model_names = ['nn', 'nn_logistic']\n",
    "filenames = {'nn': 'explanations/expl_gradtinput_nn.pkl',\n",
    "                'nn_logistic': 'explanations/expl_gradtinput_nn_logistic.pkl'}\n",
    "attr_gradtinput = {m: pickle.load(open(filenames[m], 'rb')) for m in model_names}\n",
    "\n",
    "#integrated gradients\n",
    "#TODO\n",
    "\n",
    "#smoothgrad\n",
    "#TODO\n"
   ]
  },
  {
   "cell_type": "markdown",
   "id": "ce2e91f2",
   "metadata": {},
   "source": [
    "# calculate rank correlations + plot"
   ]
  },
  {
   "cell_type": "code",
   "execution_count": 3,
   "id": "7b141951",
   "metadata": {},
   "outputs": [],
   "source": [
    "def calc_rank_corr_two_methods(attr1, attr2):\n",
    "    '''\n",
    "    attr1: np.array, n x p\n",
    "    attr2: np.array, n x p\n",
    "    '''\n",
    "    #calculate feature ranks\n",
    "    ranks1 = np.argsort(-np.abs(attr1), axis=1)\n",
    "    ranks2 = np.argsort(-np.abs(attr2), axis=1)\n",
    "\n",
    "    #calculate rank correlation for each data point\n",
    "    #https://stackoverflow.com/questions/44947030/how-to-get-scipy-stats-spearmanra-b-compute-correlation-only-between-variable\n",
    "    corrs = []\n",
    "    for row in range(ranks1.shape[0]):\n",
    "        rho, _ = spearmanr(ranks1[row, :], ranks2[row, :])\n",
    "        corrs.append(rho)\n",
    "        \n",
    "    return np.array(corrs) #rank correlations for each datapoint\n",
    "\n",
    "\n"
   ]
  },
  {
   "cell_type": "code",
   "execution_count": 4,
   "id": "174cacb2",
   "metadata": {},
   "outputs": [],
   "source": [
    "def calc_rank_corr_all_methods(expl_methods_names, expl_methods_attrs):\n",
    "    \n",
    "    num_expl_methods = len(expl_methods_attrs)\n",
    "    \n",
    "    #initiate correlation matrix\n",
    "    corr_matrix = np.zeros([num_expl_methods, num_expl_methods])\n",
    "    \n",
    "    #fill correlation matrix with average rank correlation\n",
    "    for a, b in itertools.combinations_with_replacement(range(num_expl_methods), 2):\n",
    "        print(f'calculating {expl_methods_names[a]} ({a}) and {expl_methods_names[b]} ({b})')\n",
    "        corrs = calc_rank_corr_two_methods(expl_methods_attrs[a], expl_methods_attrs[b]) #rank correlations for each datapoint\n",
    "        corr_matrix[a, b] = np.mean(corrs) #average rank correlation\n",
    "        corr_matrix[b, a] = corr_matrix[a, b]\n",
    "        \n",
    "    return corr_matrix\n",
    "    \n",
    "    "
   ]
  },
  {
   "cell_type": "code",
   "execution_count": 5,
   "id": "d4c5f24a",
   "metadata": {},
   "outputs": [],
   "source": [
    "def plot_corr_matrix(corr_matrix, plot_path):\n",
    "    mask = np.invert(np.tril(np.ones_like(corr_matrix, dtype=bool))) #mask for upper triangle\n",
    "    cmap = sns.color_palette('vlag', as_cmap=True) #diverging colormap\n",
    "    labels = ['LIME', 'KernelSHAP', 'Grad', 'Grad*Input', 'IntGrad', 'SmoothGRAD'] #x and y tick labels\n",
    "    \n",
    "    #heatmap\n",
    "    plt.figure(figsize=(15, 7))\n",
    "    sns.heatmap(corr_matrix, mask=mask, cmap=cmap, \n",
    "                vmin=-1, vmax=1, center=0,\n",
    "                xticklabels=labels, yticklabels=labels,\n",
    "                square=True, linewidths=.5, cbar_kws={'shrink': 0.995})\n",
    "    plt.yticks(rotation=0)\n",
    "    plt.savefig(plot_path, facecolor='white', transparent=False)"
   ]
  },
  {
   "cell_type": "markdown",
   "id": "6c492fc9",
   "metadata": {},
   "source": [
    "### NN"
   ]
  },
  {
   "cell_type": "code",
   "execution_count": 6,
   "id": "8cd480b8",
   "metadata": {},
   "outputs": [
    {
     "name": "stdout",
     "output_type": "stream",
     "text": [
      "calculating LIME (0) and LIME (0)\n",
      "calculating LIME (0) and KernelSHAP (1)\n",
      "calculating LIME (0) and Grad (2)\n",
      "calculating LIME (0) and Grad*Input (3)\n",
      "calculating LIME (0) and IntGrad (4)\n",
      "calculating LIME (0) and SmoothGRAD (5)\n",
      "calculating KernelSHAP (1) and KernelSHAP (1)\n",
      "calculating KernelSHAP (1) and Grad (2)\n",
      "calculating KernelSHAP (1) and Grad*Input (3)\n",
      "calculating KernelSHAP (1) and IntGrad (4)\n",
      "calculating KernelSHAP (1) and SmoothGRAD (5)\n",
      "calculating Grad (2) and Grad (2)\n",
      "calculating Grad (2) and Grad*Input (3)\n",
      "calculating Grad (2) and IntGrad (4)\n",
      "calculating Grad (2) and SmoothGRAD (5)\n",
      "calculating Grad*Input (3) and Grad*Input (3)\n",
      "calculating Grad*Input (3) and IntGrad (4)\n",
      "calculating Grad*Input (3) and SmoothGRAD (5)\n",
      "calculating IntGrad (4) and IntGrad (4)\n",
      "calculating IntGrad (4) and SmoothGRAD (5)\n",
      "calculating SmoothGRAD (5) and SmoothGRAD (5)\n"
     ]
    }
   ],
   "source": [
    "#calculate rank correlation matrix \n",
    "\n",
    "expl_methods_names = {0: 'LIME',\n",
    "                1: 'KernelSHAP', \n",
    "                2: 'Grad',\n",
    "                3: 'Grad*Input',\n",
    "                4: 'IntGrad',\n",
    "                5: 'SmoothGRAD'}\n",
    "\n",
    "filler = np.zeros((attr_kernelshap['nn'].shape[0], attr_kernelshap['nn'].shape[1]))\n",
    "\n",
    "expl_methods_attrs = {0: filler,\n",
    "                      1: attr_kernelshap['nn'], \n",
    "                      2: attr_vanillagrad['nn'],\n",
    "                      3: attr_gradtinput['nn'],\n",
    "                      4: filler,\n",
    "                      5: filler}\n",
    "\n",
    "corr_matrix_nn = calc_rank_corr_all_methods(expl_methods_names, expl_methods_attrs)"
   ]
  },
  {
   "cell_type": "code",
   "execution_count": 7,
   "id": "2f7e5d0e",
   "metadata": {},
   "outputs": [],
   "source": [
    "#!!!!!temporary\n",
    "#fill missing methods with 0\n",
    "#TODO -- remove\n",
    "\n",
    "filler_idx = [0, 4, 5]\n",
    "\n",
    "for idx in filler_idx:\n",
    "    corr_matrix_nn[idx, :] = 0\n",
    "    corr_matrix_nn[:, idx] = 0\n",
    "\n",
    "np.fill_diagonal(corr_matrix_nn, 1)"
   ]
  },
  {
   "cell_type": "code",
   "execution_count": 8,
   "id": "a391cd53",
   "metadata": {
    "scrolled": false
   },
   "outputs": [
    {
     "data": {
      "image/png": "[encoded data removed]",
      "text/plain": [
       "<Figure size 1080x504 with 2 Axes>"
      ]
     },
     "metadata": {
      "needs_background": "light"
     },
     "output_type": "display_data"
    }
   ],
   "source": [
    "#plot rank correlation matrix \n",
    "corr_matrix=corr_matrix_nn\n",
    "plot_path='rank_correlation_nn'\n",
    "plot_corr_matrix(corr_matrix, plot_path)"
   ]
  },
  {
   "cell_type": "markdown",
   "id": "6ea626fc",
   "metadata": {},
   "source": [
    "### logistic"
   ]
  },
  {
   "cell_type": "code",
   "execution_count": null,
   "id": "4df292dc",
   "metadata": {},
   "outputs": [],
   "source": []
  },
  {
   "cell_type": "markdown",
   "id": "f150eead",
   "metadata": {},
   "source": [
    "### RF"
   ]
  },
  {
   "cell_type": "code",
   "execution_count": null,
   "id": "f2ac1fc3",
   "metadata": {},
   "outputs": [],
   "source": []
  },
  {
   "cell_type": "markdown",
   "id": "6e4b5685",
   "metadata": {},
   "source": [
    "### GB"
   ]
  },
  {
   "cell_type": "code",
   "execution_count": null,
   "id": "8dd4c271",
   "metadata": {},
   "outputs": [],
   "source": []
  },
  {
   "cell_type": "code",
   "execution_count": null,
   "id": "86031ab2",
   "metadata": {},
   "outputs": [],
   "source": []
  },
  {
   "cell_type": "code",
   "execution_count": null,
   "id": "aa880e5e",
   "metadata": {},
   "outputs": [],
   "source": []
  },
  {
   "cell_type": "code",
   "execution_count": null,
   "id": "bb35120e",
   "metadata": {},
   "outputs": [],
   "source": []
  },
  {
   "cell_type": "code",
   "execution_count": null,
   "id": "8828859d",
   "metadata": {},
   "outputs": [],
   "source": []
  }
 ],
 "metadata": {
  "kernelspec": {
   "display_name": "Python 3",
   "language": "python",
   "name": "python3"
  },
  "language_info": {
   "codemirror_mode": {
    "name": "ipython",
    "version": 3
   },
   "file_extension": ".py",
   "mimetype": "text/x-python",
   "name": "python",
   "nbconvert_exporter": "python",
   "pygments_lexer": "ipython3",
   "version": "3.8.8"
  }
 },
 "nbformat": 4,
 "nbformat_minor": 5
}
